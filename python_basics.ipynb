{
  "nbformat": 4,
  "nbformat_minor": 0,
  "metadata": {
    "colab": {
      "provenance": []
    },
    "kernelspec": {
      "name": "python3",
      "display_name": "Python 3"
    },
    "language_info": {
      "name": "python"
    }
  },
  "cells": [
    {
      "cell_type": "markdown",
      "source": [
        "#Python Basics"
      ],
      "metadata": {
        "id": "vXf06JUDJ1B4"
      }
    },
    {
      "cell_type": "code",
      "source": [],
      "metadata": {
        "id": "vHcgTQ4435L4"
      },
      "execution_count": null,
      "outputs": []
    },
    {
      "cell_type": "markdown",
      "source": [
        "1.What is Python, and why is it popular?\n",
        "\n",
        "-> Python is a high-level, interpreted programming language known for its simplicity and readability.Python is designed to be easy to learn and use, making it accessible for beginners and powerful for professionals.\n",
        "\n",
        "It is popular for simple syntax, rich libraries, and strong community support makes highly popular and versatile.\n",
        "\n",
        "2.What is an interpreter in Python?\n",
        "\n",
        "->An interpreter in Python is a program that executes Python code line by line, translating it into machine-readable instructions. Unlike compilers, it does not generate a separate executable file. This allows for quick testing and debugging of code during development.\n",
        "\n",
        "3.What are pre-defined keywords in Python?\n",
        "\n",
        "->\n",
        "Pre-defined keywords in Python are reserved words that have special meanings and are used to define the syntax and structure of the language (e.g., if, else, while, import). These keywords cannot be used as variable names or identifiers. Python has a fixed set of keywords, which can be checked using the keyword module.\n",
        "\n",
        "4.Can keywords be used as variable names?\n",
        "\n",
        "->No, keywords in Python cannot be used as variable names because they are reserved for specific purposes in the language's syntax. Using them as identifiers will result in a SyntaxError. For example, if = 10 is invalid in Python.\n",
        "\n",
        "5.What is mutability in Python?\n",
        "\n",
        "->Mutability in Python refers to whether an object's value can be changed after it is created. Mutable objects (e.g., lists, dictionaries, sets) can be modified, while immutable objects (e.g., strings, tuples, integers) cannot. This distinction affects how objects behave in memory during operations.\n",
        "\n",
        "6.Why are lists mutable, but tuples are immutable?\n",
        "\n",
        "->Lists are mutable because they are designed to allow dynamic changes, such as adding, removing, or modifying elements. Tuples are immutable to ensure data integrity and provide a lightweight, fixed structure for faster access and hashing. This immutability makes tuples suitable for keys in dictionaries or as fixed data containers.\n",
        "\n",
        "7.What is the difference between “==” and “is” operators in Python?\n",
        "\n",
        "->The == operator checks for value equality, meaning it compares whether two objects have the same content. The is operator checks for identity equality, meaning it verifies if two objects refer to the same memory location. For example, a == b can be True while a is b can be False.\n",
        "\n",
        "8.What are logical operators in Python?\n",
        "\n",
        "->Logical operators in Python are used to combine conditional statements and evaluate logical expressions. The three logical operators are:\n",
        "\n",
        "and (returns True if both conditions are true),\n",
        "\n",
        "\n",
        "or (returns True if at least one condition is true),\n",
        "\n",
        "\n",
        "not (reverses the boolean value).\n",
        "\n",
        "9.What is type casting in Python?\n",
        "\n",
        "->Type casting in Python refers to the process of converting a variable of one data type to another.\n",
        "\n",
        "\n",
        "For example, you can convert an integer to a float, a string to an integer (if the string represents a number), or a float to an integer (which may result in data loss).\n",
        "This is achieved using built-in functions like int(), float(), and str().\n",
        "\n",
        "10.What is the difference between implicit and explicit type casting?\n",
        "\n",
        "-> the difference between implicit and explicit type casting:\n",
        "\n",
        "Implicit: The compiler automatically converts one data type to another without explicit instruction. This often happens when assigning a value of a smaller data type to a variable of a larger data type (e.g., int to float).\n",
        "\n",
        "\n",
        "Explicit: The programmer manually converts one data type to another using a cast operator. This is necessary when converting a value to a smaller data type (e.g., float to int) or when the compiler cannot determine the appropriate conversion.\n",
        "\n",
        "Example:\n",
        "Implicit: float f = 10; (int 10 is implicitly converted to float)\n",
        "Explicit: int i = (int) 3.14; (float 3.14 is explicitly converted to int)\n",
        "\n",
        "11.What is the purpose of conditional statements in Python?\n",
        "\n",
        "->Conditional statements in Python, like if, elif, and else, control the flow of execution based on whether specific conditions are true or false. This allows you to make decisions within your code, execute different blocks of code depending on the outcome of these conditions, and create more dynamic and responsive programs.\n",
        "\n",
        "12.How does the elif statement work?\n",
        "\n",
        "->The elif statement in Python is used to check for multiple conditions sequentially.\n",
        "It only executes the block of code associated with the first condition that evaluates to True.\n",
        "If none of the elif conditions are met, the else block (if present) will be executed.\n",
        "\n",
        "13.What is the difference between for and while loops?\n",
        "\n",
        "->the difference between for and while loops:\n",
        "\n",
        "for loop: Iterates a specific number of times, typically over a sequence (like a list or range).\n",
        "\n",
        "\n",
        "while loop: Continues as long as a given condition remains true.\n",
        "\n",
        "\n",
        " for loop knows its end beforehand, while while loop's end depends on the condition.\n",
        "\n",
        " 14.Describe a scenario where a while loop is more suitable than a for loop.\n",
        "\n",
        " ->a scenario where a while loop is more suitable than a for loop:\n",
        "\n",
        "Reading user input: If you need to repeatedly ask the user for input until they provide valid data (e.g., a number within a specific range), a while loop is ideal.\n",
        "\n",
        "Waiting for an event: In situations where you need to wait for a specific condition to occur (e.g., user interaction, data arrival), a while loop can continuously check for the event.\n",
        "\n",
        "\n",
        "Unknown number of iterations: When the number of iterations is not predetermined, a while loop provides more flexibility. For example, in a game loop that continues until the game is over.\n"
      ],
      "metadata": {
        "id": "hWw-CCSQLjmn"
      }
    },
    {
      "cell_type": "code",
      "source": [
        "# Write a Python program to print \"Hello, World!\n",
        "'''\n",
        "print(\"Hello, World!\")\n",
        "'''\n"
      ],
      "metadata": {
        "id": "rTtdssj4JLN9",
        "colab": {
          "base_uri": "https://localhost:8080/",
          "height": 36
        },
        "outputId": "9b2f434d-ab50-48fa-af9f-01f6591d3d36"
      },
      "execution_count": 1,
      "outputs": [
        {
          "output_type": "execute_result",
          "data": {
            "text/plain": [
              "'\\nprint(\"Hello, World!\") \\n'"
            ],
            "application/vnd.google.colaboratory.intrinsic+json": {
              "type": "string"
            }
          },
          "metadata": {},
          "execution_count": 1
        }
      ]
    },
    {
      "cell_type": "code",
      "source": [
        "# Write a Python program that displays your name and age\n",
        "'''\n",
        "name = \"Soham\"\n",
        "age = 22\n",
        "\n",
        "print(\"My name is\", name, \"and I am\", age, \"years old.\")\n",
        "'''"
      ],
      "metadata": {
        "colab": {
          "base_uri": "https://localhost:8080/",
          "height": 36
        },
        "id": "WgUh8Dtm5UDl",
        "outputId": "c52f3e9c-6181-422d-ae29-73605c063579"
      },
      "execution_count": 2,
      "outputs": [
        {
          "output_type": "execute_result",
          "data": {
            "text/plain": [
              "'\\nname = \"Soham\"\\nage = 22 \\n\\nprint(\"My name is\", name, \"and I am\", age, \"years old.\")\\n'"
            ],
            "application/vnd.google.colaboratory.intrinsic+json": {
              "type": "string"
            }
          },
          "metadata": {},
          "execution_count": 2
        }
      ]
    },
    {
      "cell_type": "code",
      "source": [
        "# Write code to print all the pre-defined keywords in Python using the keyword library\n",
        "'''\n",
        "import keyword\n",
        "\n",
        "print(\"List of Python keywords:\")\n",
        "print(keyword.kwlist)\n",
        "'''"
      ],
      "metadata": {
        "colab": {
          "base_uri": "https://localhost:8080/",
          "height": 36
        },
        "id": "ghm6k8Ll5w-z",
        "outputId": "0cc136da-1f33-4de0-a3c4-940ae8663b2f"
      },
      "execution_count": 3,
      "outputs": [
        {
          "output_type": "execute_result",
          "data": {
            "text/plain": [
              "'\\nimport keyword\\n\\nprint(\"List of Python keywords:\")\\nprint(keyword.kwlist)\\n'"
            ],
            "application/vnd.google.colaboratory.intrinsic+json": {
              "type": "string"
            }
          },
          "metadata": {},
          "execution_count": 3
        }
      ]
    },
    {
      "cell_type": "code",
      "source": [
        "# Write a program that checks if a given word is a Python keyword\n",
        "'''\n",
        "import keyword\n",
        "\n",
        "def is_keyword(word):\n",
        "    \"\"\"\n",
        "    Checks if the given word is a Python keyword.\n",
        "\n",
        "    Args:\n",
        "        word: The word to check.\n",
        "\n",
        "    Returns:\n",
        "        True if the word is a keyword, False otherwise.\n",
        "    \"\"\"\n",
        "    return keyword.iskeyword(word)\n",
        "\n",
        "word = input(\"Enter a word: \")\n",
        "if is_keyword(word):\n",
        "    print(f\"'{word}' is a Python keyword.\")\n",
        "else:\n",
        "    print(f\"'{word}' is not a Python keyword.\")\n",
        "'''\n"
      ],
      "metadata": {
        "colab": {
          "base_uri": "https://localhost:8080/",
          "height": 70
        },
        "id": "hS8VLrn652aR",
        "outputId": "a09492f2-9e6c-4400-f289-46a0833998ce"
      },
      "execution_count": 4,
      "outputs": [
        {
          "output_type": "execute_result",
          "data": {
            "text/plain": [
              "'\\nimport keyword\\n\\ndef is_keyword(word):\\n    \"\"\"\\n    Checks if the given word is a Python keyword.\\n\\n    Args:\\n        word: The word to check.\\n\\n    Returns:\\n        True if the word is a keyword, False otherwise.\\n    \"\"\"\\n    return keyword.iskeyword(word)\\n\\nword = input(\"Enter a word: \")\\nif is_keyword(word):\\n    print(f\"\\'{word}\\' is a Python keyword.\")\\nelse:\\n    print(f\"\\'{word}\\' is not a Python keyword.\")\\n'"
            ],
            "application/vnd.google.colaboratory.intrinsic+json": {
              "type": "string"
            }
          },
          "metadata": {},
          "execution_count": 4
        }
      ]
    },
    {
      "cell_type": "code",
      "source": [
        "#Create a list and tuple in Python, and demonstrate how attempting to change an element works differently for each\n",
        "'''\n",
        "my_list = [1, 2, 3, 4, 5]\n",
        "print(\"Original List:\", my_list)\n",
        "\n",
        "my_list[0] = 10\n",
        "print(\"Modified List:\", my_list)\n",
        "\n",
        "my_tuple = (1, 2, 3, 4, 5)\n",
        "print(\"\\nOriginal Tuple:\", my_tuple)\n",
        "\n",
        "try:\n",
        "    my_tuple[0] = 10\n",
        "except TypeError as e:\n",
        "    print(f\"Error: {e}\")\n",
        "    print(\"Tuples are immutable. You cannot change individual elements.\")\n",
        "'''"
      ],
      "metadata": {
        "colab": {
          "base_uri": "https://localhost:8080/",
          "height": 53
        },
        "id": "J08Vl0Ha6v3V",
        "outputId": "70dec7d3-b411-4f60-d2a0-0ab14ededa83"
      },
      "execution_count": 5,
      "outputs": [
        {
          "output_type": "execute_result",
          "data": {
            "text/plain": [
              "'\\nmy_list = [1, 2, 3, 4, 5]\\nprint(\"Original List:\", my_list)\\n\\nmy_list[0] = 10\\nprint(\"Modified List:\", my_list) \\n\\nmy_tuple = (1, 2, 3, 4, 5)\\nprint(\"\\nOriginal Tuple:\", my_tuple)\\n\\ntry:\\n    my_tuple[0] = 10\\nexcept TypeError as e:\\n    print(f\"Error: {e}\")\\n    print(\"Tuples are immutable. You cannot change individual elements.\")\\n'"
            ],
            "application/vnd.google.colaboratory.intrinsic+json": {
              "type": "string"
            }
          },
          "metadata": {},
          "execution_count": 5
        }
      ]
    },
    {
      "cell_type": "code",
      "source": [
        "#Write a function to demonstrate the behavior of mutable and immutable arguments\n",
        "'''\n",
        "def modify_list(my_list):\n",
        "  \"\"\"\n",
        "  Modifies the given list by appending a new element.\n",
        "\n",
        "  Args:\n",
        "    my_list: The list to be modified.\n",
        "  \"\"\"\n",
        "  my_list.append(4)\n",
        "\n",
        "def modify_tuple(my_tuple):\n",
        "  \"\"\"\n",
        "  Attempts to modify the given tuple by assigning a new value to an element.\n",
        "\n",
        "  Args:\n",
        "    my_tuple: The tuple to be modified.\n",
        "  \"\"\"\n",
        "  try:\n",
        "    my_tuple[0] = 10\n",
        "  except TypeError as e:\n",
        "    print(f\"Error: {e}\")\n",
        "    print(\"Tuples are immutable. You cannot change individual elements.\")\n",
        "\n",
        "my_list = [1, 2, 3]\n",
        "my_tuple = (1, 2, 3)\n",
        "\n",
        "print(\"Before modification:\")\n",
        "print(\"List:\", my_list)\n",
        "print(\"Tuple:\", my_tuple)\n",
        "\n",
        "modify_list(my_list)\n",
        "modify_tuple(my_tuple)\n",
        "\n",
        "print(\"\\nAfter modification:\")\n",
        "print(\"List:\", my_list)\n",
        "print(\"Tuple:\", my_tuple)\n",
        "'''"
      ],
      "metadata": {
        "colab": {
          "base_uri": "https://localhost:8080/",
          "height": 105
        },
        "id": "mCn774sd6vpI",
        "outputId": "3969113a-f064-4b44-f178-8f6e9a8f7944"
      },
      "execution_count": 6,
      "outputs": [
        {
          "output_type": "execute_result",
          "data": {
            "text/plain": [
              "'\\ndef modify_list(my_list):\\n  \"\"\"\\n  Modifies the given list by appending a new element.\\n\\n  Args:\\n    my_list: The list to be modified.\\n  \"\"\"\\n  my_list.append(4) \\n\\ndef modify_tuple(my_tuple):\\n  \"\"\"\\n  Attempts to modify the given tuple by assigning a new value to an element.\\n\\n  Args:\\n    my_tuple: The tuple to be modified.\\n  \"\"\"\\n  try:\\n    my_tuple[0] = 10\\n  except TypeError as e:\\n    print(f\"Error: {e}\")\\n    print(\"Tuples are immutable. You cannot change individual elements.\")\\n\\nmy_list = [1, 2, 3]\\nmy_tuple = (1, 2, 3)\\n\\nprint(\"Before modification:\")\\nprint(\"List:\", my_list)\\nprint(\"Tuple:\", my_tuple)\\n\\nmodify_list(my_list)\\nmodify_tuple(my_tuple)\\n\\nprint(\"\\nAfter modification:\")\\nprint(\"List:\", my_list)\\nprint(\"Tuple:\", my_tuple)\\n'"
            ],
            "application/vnd.google.colaboratory.intrinsic+json": {
              "type": "string"
            }
          },
          "metadata": {},
          "execution_count": 6
        }
      ]
    },
    {
      "cell_type": "code",
      "source": [
        "#Write a function to demonstrate the behavior of mutable and immutable arguments\n",
        "'''\n",
        "def modify_args(my_list, my_tuple):\n",
        "    \"\"\"\n",
        "    Demonstrates the behavior of mutable and immutable arguments.\n",
        "\n",
        "    Args:\n",
        "      my_list: A list (mutable).\n",
        "      my_tuple: A tuple (immutable).\n",
        "    \"\"\"\n",
        "    my_list.append(4)\n",
        "\n",
        "    try:\n",
        "        my_tuple[0] = 10\n",
        "    except TypeError as e:\n",
        "        print(f\"Error: {e}\")\n",
        "        print(\"Tuples are immutable and cannot be modified.\")\n",
        "\n",
        "my_list = [1, 2, 3]\n",
        "my_tuple = (1, 2, 3)\n",
        "\n",
        "print(\"Before modification:\")\n",
        "print(\"List:\", my_list)\n",
        "print(\"Tuple:\", my_tuple)\n",
        "\n",
        "modify_args(my_list, my_tuple)\n",
        "\n",
        "print(\"\\nAfter modification:\")\n",
        "print(\"List:\", my_list)\n",
        "print(\"Tuple:\", my_tuple)\n",
        "'''"
      ],
      "metadata": {
        "colab": {
          "base_uri": "https://localhost:8080/",
          "height": 88
        },
        "id": "nDS1JZav6vck",
        "outputId": "bb6ae985-1d2c-42a4-adfb-222bde0e1cc0"
      },
      "execution_count": 7,
      "outputs": [
        {
          "output_type": "execute_result",
          "data": {
            "text/plain": [
              "'\\ndef modify_args(my_list, my_tuple):\\n    \"\"\"\\n    Demonstrates the behavior of mutable and immutable arguments.\\n\\n    Args:\\n      my_list: A list (mutable).\\n      my_tuple: A tuple (immutable).\\n    \"\"\"\\n    my_list.append(4)\\n\\n    try:\\n        my_tuple[0] = 10 \\n    except TypeError as e:\\n        print(f\"Error: {e}\")\\n        print(\"Tuples are immutable and cannot be modified.\")\\n\\nmy_list = [1, 2, 3]\\nmy_tuple = (1, 2, 3)\\n\\nprint(\"Before modification:\")\\nprint(\"List:\", my_list)\\nprint(\"Tuple:\", my_tuple)\\n\\nmodify_args(my_list, my_tuple)\\n\\nprint(\"\\nAfter modification:\")\\nprint(\"List:\", my_list)\\nprint(\"Tuple:\", my_tuple)\\n'"
            ],
            "application/vnd.google.colaboratory.intrinsic+json": {
              "type": "string"
            }
          },
          "metadata": {},
          "execution_count": 7
        }
      ]
    },
    {
      "cell_type": "code",
      "source": [
        "#Write a program to demonstrate the use of logical operators\n",
        "'''\n",
        "def demonstrate_logical_operators():\n",
        "  \"\"\"Demonstrates the use of logical operators in Python.\"\"\"\n",
        "\n",
        "  a = True\n",
        "  b = False\n",
        "  print(\"a and b:\", a and b)\n",
        "\n",
        "  print(\"a or b:\", a or b)\n",
        "\n",
        "  print(\"not a:\", not a)\n",
        "  print(\"not b:\", not b)\n",
        "  print(\"(a and b) or (not b):\", (a and b) or (not b))\n",
        "\n",
        "if __name__ == \"__main__\":\n",
        "  demonstrate_logical_operators()\n",
        "'''"
      ],
      "metadata": {
        "colab": {
          "base_uri": "https://localhost:8080/",
          "height": 70
        },
        "id": "fAJVl6Zt6vSY",
        "outputId": "c5041f08-96a4-40b4-cca7-605f72727c4e"
      },
      "execution_count": 8,
      "outputs": [
        {
          "output_type": "execute_result",
          "data": {
            "text/plain": [
              "'\\ndef demonstrate_logical_operators():\\n  \"\"\"Demonstrates the use of logical operators in Python.\"\"\"\\n\\n  a = True\\n  b = False\\n  print(\"a and b:\", a and b) \\n\\n  print(\"a or b:\", a or b)\\n\\n  print(\"not a:\", not a)\\n  print(\"not b:\", not b)\\n  print(\"(a and b) or (not b):\", (a and b) or (not b)) \\n\\nif __name__ == \"__main__\":\\n  demonstrate_logical_operators()\\n'"
            ],
            "application/vnd.google.colaboratory.intrinsic+json": {
              "type": "string"
            }
          },
          "metadata": {},
          "execution_count": 8
        }
      ]
    },
    {
      "cell_type": "code",
      "source": [
        "#Write a Python program to convert user input from string to integer, float, and boolean types\n",
        "'''\n",
        "def convert_input(user_input):\n",
        "    \"\"\"\n",
        "    Converts user input to integer, float, and boolean types.\n",
        "\n",
        "    Args:\n",
        "        user_input: The string input from the user.\n",
        "\n",
        "    Returns:\n",
        "        A tuple containing the converted integer, float, and boolean values.\n",
        "    \"\"\"\n",
        "\n",
        "    try:\n",
        "\n",
        "        int_value = int(user_input)\n",
        "    except ValueError:\n",
        "        int_value = None\n",
        "\n",
        "    try:\n",
        "\n",
        "        float_value = float(user_input)\n",
        "    except ValueError:\n",
        "        float_value = None\n",
        "\n",
        "    bool_value = bool(user_input)\n",
        "\n",
        "    return int_value, float_value, bool_value\n",
        "\n",
        "user_input = input(\"Enter a value: \")\n",
        "\n",
        "int_val, float_val, bool_val = convert_input(user_input)\n",
        "\n",
        "print(f\"Integer: {int_val}\")\n",
        "print(f\"Float: {float_val}\")\n",
        "print(f\"Boolean: {bool_val}\")\n",
        "'''\n"
      ],
      "metadata": {
        "colab": {
          "base_uri": "https://localhost:8080/",
          "height": 105
        },
        "id": "gzhiAnVi9R0W",
        "outputId": "b34404b2-7ecc-4d50-8462-ea012ae42520"
      },
      "execution_count": 9,
      "outputs": [
        {
          "output_type": "execute_result",
          "data": {
            "text/plain": [
              "'\\ndef convert_input(user_input):\\n    \"\"\"\\n    Converts user input to integer, float, and boolean types.\\n\\n    Args:\\n        user_input: The string input from the user.\\n\\n    Returns:\\n        A tuple containing the converted integer, float, and boolean values.\\n    \"\"\"\\n\\n    try:\\n       \\n        int_value = int(user_input)\\n    except ValueError:\\n        int_value = None\\n\\n    try:\\n       \\n        float_value = float(user_input)\\n    except ValueError:\\n        float_value = None\\n\\n    bool_value = bool(user_input)\\n\\n    return int_value, float_value, bool_value\\n\\nuser_input = input(\"Enter a value: \")\\n\\nint_val, float_val, bool_val = convert_input(user_input)\\n\\nprint(f\"Integer: {int_val}\")\\nprint(f\"Float: {float_val}\")\\nprint(f\"Boolean: {bool_val}\")\\n'"
            ],
            "application/vnd.google.colaboratory.intrinsic+json": {
              "type": "string"
            }
          },
          "metadata": {},
          "execution_count": 9
        }
      ]
    },
    {
      "cell_type": "code",
      "source": [
        "#Write code to demonstrate type casting with list elements\n",
        "'''\n",
        "def type_cast_list_elements(lst, target_type):\n",
        "  \"\"\"\n",
        "  Type casts each element in a list to the specified target type.\n",
        "\n",
        "  Args:\n",
        "    lst: The input list.\n",
        "    target_type: The desired data type (e.g., int, float, str).\n",
        "\n",
        "  Returns:\n",
        "    A new list with elements type-casted to the target type.\n",
        "  \"\"\"\n",
        "\n",
        "  try:\n",
        "    return [target_type(elem) for elem in lst]\n",
        "  except (ValueError, TypeError) as e:\n",
        "    print(f\"Error during type casting: {e}\")\n",
        "    return lst\n",
        "\n",
        "my_list = [1.5, \"2\", \"three\", 4]\n",
        "\n",
        "int_list = type_cast_list_elements(my_list, int)\n",
        "print(\"Casted to integers:\", int_list)\n",
        "\n",
        "float_list = type_cast_list_elements(my_list, float)\n",
        "print(\"Casted to floats:\", float_list)\n",
        "\n",
        "str_list = type_cast_list_elements(my_list, str)\n",
        "print(\"Casted to strings:\", str_list)\n",
        "'''"
      ],
      "metadata": {
        "colab": {
          "base_uri": "https://localhost:8080/",
          "height": 105
        },
        "id": "hI80WRWs9Rto",
        "outputId": "adbf4160-48e1-4161-dfe9-4a24b3f5c0b3"
      },
      "execution_count": 10,
      "outputs": [
        {
          "output_type": "execute_result",
          "data": {
            "text/plain": [
              "'\\ndef type_cast_list_elements(lst, target_type):\\n  \"\"\"\\n  Type casts each element in a list to the specified target type.\\n\\n  Args:\\n    lst: The input list.\\n    target_type: The desired data type (e.g., int, float, str).\\n\\n  Returns:\\n    A new list with elements type-casted to the target type.\\n  \"\"\"\\n\\n  try:\\n    return [target_type(elem) for elem in lst]\\n  except (ValueError, TypeError) as e:\\n    print(f\"Error during type casting: {e}\")\\n    return lst\\n\\nmy_list = [1.5, \"2\", \"three\", 4]\\n\\nint_list = type_cast_list_elements(my_list, int)\\nprint(\"Casted to integers:\", int_list)\\n\\nfloat_list = type_cast_list_elements(my_list, float)\\nprint(\"Casted to floats:\", float_list)\\n\\nstr_list = type_cast_list_elements(my_list, str)\\nprint(\"Casted to strings:\", str_list)\\n'"
            ],
            "application/vnd.google.colaboratory.intrinsic+json": {
              "type": "string"
            }
          },
          "metadata": {},
          "execution_count": 10
        }
      ]
    },
    {
      "cell_type": "code",
      "source": [
        "#Write a program that checks if a number is positive, negative, or zero\n",
        "'''\n",
        "def check_number(num):\n",
        "  \"\"\"\n",
        "  Checks if a number is positive, negative, or zero.\n",
        "\n",
        "  Args:\n",
        "    num: The number to check.\n",
        "\n",
        "  Returns:\n",
        "    A string indicating whether the number is positive, negative, or zero.\n",
        "  \"\"\"\n",
        "\n",
        "  if num > 0:\n",
        "    return \"Positive\"\n",
        "  elif num < 0:\n",
        "    return \"Negative\"\n",
        "  else:\n",
        "    return \"Zero\"\n",
        "\n",
        "number = float(input(\"Enter a number: \"))\n",
        "result = check_number(number)\n",
        "print(f\"The number {number} is {result}.\")\n",
        "'''"
      ],
      "metadata": {
        "colab": {
          "base_uri": "https://localhost:8080/",
          "height": 70
        },
        "id": "xz7WM7hQ9Rq4",
        "outputId": "9a752aa5-aeb0-4841-8229-aca793ad8ded"
      },
      "execution_count": 11,
      "outputs": [
        {
          "output_type": "execute_result",
          "data": {
            "text/plain": [
              "'\\ndef check_number(num):\\n  \"\"\"\\n  Checks if a number is positive, negative, or zero.\\n\\n  Args:\\n    num: The number to check.\\n\\n  Returns:\\n    A string indicating whether the number is positive, negative, or zero.\\n  \"\"\"\\n\\n  if num > 0:\\n    return \"Positive\"\\n  elif num < 0:\\n    return \"Negative\"\\n  else:\\n    return \"Zero\"\\n\\nnumber = float(input(\"Enter a number: \"))\\nresult = check_number(number)\\nprint(f\"The number {number} is {result}.\")\\n'"
            ],
            "application/vnd.google.colaboratory.intrinsic+json": {
              "type": "string"
            }
          },
          "metadata": {},
          "execution_count": 11
        }
      ]
    },
    {
      "cell_type": "code",
      "source": [
        "#Write a for loop to print numbers from 1 to 10\n",
        "'''\n",
        "for i in range(1, 11):\n",
        "  print(i)\n",
        "'''"
      ],
      "metadata": {
        "colab": {
          "base_uri": "https://localhost:8080/",
          "height": 36
        },
        "id": "JazAnSRm-IsR",
        "outputId": "646572c0-b3bf-4d0e-a1ca-272db22b2385"
      },
      "execution_count": 12,
      "outputs": [
        {
          "output_type": "execute_result",
          "data": {
            "text/plain": [
              "'\\nfor i in range(1, 11):\\n  print(i)\\n'"
            ],
            "application/vnd.google.colaboratory.intrinsic+json": {
              "type": "string"
            }
          },
          "metadata": {},
          "execution_count": 12
        }
      ]
    },
    {
      "cell_type": "code",
      "source": [
        "#Write a Python program to find the sum of all even numbers between 1 and 50\n",
        "'''\n",
        "sum_of_even_numbers = 0\n",
        "for num in range(1, 51):\n",
        "    if num % 2 == 0:\n",
        "        sum_of_even_numbers += num\n",
        "print(\"Sum of even numbers between 1 and 50:\", sum_of_even_numbers)\n",
        "'''"
      ],
      "metadata": {
        "colab": {
          "base_uri": "https://localhost:8080/",
          "height": 53
        },
        "id": "QBp5L0ke-Ikx",
        "outputId": "99b4b2a3-fcbd-41fd-9a20-483425b4840b"
      },
      "execution_count": 13,
      "outputs": [
        {
          "output_type": "execute_result",
          "data": {
            "text/plain": [
              "'\\nsum_of_even_numbers = 0\\nfor num in range(1, 51):\\n    if num % 2 == 0:\\n        sum_of_even_numbers += num\\nprint(\"Sum of even numbers between 1 and 50:\", sum_of_even_numbers)\\n'"
            ],
            "application/vnd.google.colaboratory.intrinsic+json": {
              "type": "string"
            }
          },
          "metadata": {},
          "execution_count": 13
        }
      ]
    },
    {
      "cell_type": "code",
      "source": [
        "#Write a program to reverse a string using a while loop\n",
        "'''\n",
        "def reverse_string(s):\n",
        "    \"\"\"\n",
        "    Reverses a given string using a while loop.\n",
        "\n",
        "    Args:\n",
        "      s: The input string.\n",
        "\n",
        "    Returns:\n",
        "      The reversed string.\n",
        "    \"\"\"\n",
        "\n",
        "    reversed_str = \"\"\n",
        "    index = len(s) - 1\n",
        "\n",
        "    while index >= 0:\n",
        "        reversed_str += s[index]\n",
        "        index -= 1\n",
        "\n",
        "    return reversed_str\n",
        "\n",
        "input_str = input(\"Enter a string: \")\n",
        "reversed_str = reverse_string(input_str)\n",
        "print(\"Reversed string:\", reversed_str)\n",
        "'''"
      ],
      "metadata": {
        "colab": {
          "base_uri": "https://localhost:8080/",
          "height": 70
        },
        "id": "O_MWAlr3-IcM",
        "outputId": "b3ad69e4-3dc0-4cc4-aafc-e92133a364db"
      },
      "execution_count": 14,
      "outputs": [
        {
          "output_type": "execute_result",
          "data": {
            "text/plain": [
              "'\\ndef reverse_string(s):\\n    \"\"\"\\n    Reverses a given string using a while loop.\\n\\n    Args:\\n      s: The input string.\\n\\n    Returns:\\n      The reversed string.\\n    \"\"\"\\n\\n    reversed_str = \"\"\\n    index = len(s) - 1\\n\\n    while index >= 0:\\n        reversed_str += s[index]\\n        index -= 1\\n\\n    return reversed_str\\n\\ninput_str = input(\"Enter a string: \")\\nreversed_str = reverse_string(input_str)\\nprint(\"Reversed string:\", reversed_str)\\n'"
            ],
            "application/vnd.google.colaboratory.intrinsic+json": {
              "type": "string"
            }
          },
          "metadata": {},
          "execution_count": 14
        }
      ]
    },
    {
      "cell_type": "code",
      "source": [
        "#Write a Python program to calculate the factorial of a number provided by the user using a while loop\n",
        "'''\n",
        "def factorial_while_loop(n):\n",
        "    \"\"\"\n",
        "    Calculates the factorial of a non-negative integer using a while loop.\n",
        "\n",
        "    Args:\n",
        "        n: The non-negative integer.\n",
        "\n",
        "    Returns:\n",
        "        The factorial of n.\n",
        "    \"\"\"\n",
        "\n",
        "    if n < 0:\n",
        "        return \"Factorial is not defined for negative numbers.\"\n",
        "    elif n == 0:\n",
        "        return 1\n",
        "    else:\n",
        "        factorial = 1\n",
        "        while n > 0:\n",
        "            factorial *= n\n",
        "            n -= 1\n",
        "        return factorial\n",
        "num = int(input(\"Enter a non-negative integer: \"))\n",
        "result = factorial_while_loop(num)\n",
        "print(f\"The factorial of {num} is {result}\")\n",
        "'''"
      ],
      "metadata": {
        "colab": {
          "base_uri": "https://localhost:8080/",
          "height": 88
        },
        "id": "Ao9mpMjD-sPj",
        "outputId": "5301405d-c187-436c-df62-f7fbc2407ff1"
      },
      "execution_count": 16,
      "outputs": [
        {
          "output_type": "execute_result",
          "data": {
            "text/plain": [
              "'\\ndef factorial_while_loop(n):\\n    \"\"\"\\n    Calculates the factorial of a non-negative integer using a while loop.\\n\\n    Args:\\n        n: The non-negative integer.\\n\\n    Returns:\\n        The factorial of n.\\n    \"\"\"\\n\\n    if n < 0:\\n        return \"Factorial is not defined for negative numbers.\"\\n    elif n == 0:\\n        return 1\\n    else:\\n        factorial = 1\\n        while n > 0:\\n            factorial *= n\\n            n -= 1\\n        return factorial\\nnum = int(input(\"Enter a non-negative integer: \"))\\nresult = factorial_while_loop(num)\\nprint(f\"The factorial of {num} is {result}\")\\n'"
            ],
            "application/vnd.google.colaboratory.intrinsic+json": {
              "type": "string"
            }
          },
          "metadata": {},
          "execution_count": 16
        }
      ]
    }
  ]
}